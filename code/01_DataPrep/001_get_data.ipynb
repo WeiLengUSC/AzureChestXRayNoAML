{
 "cells": [
  {
   "cell_type": "markdown",
   "metadata": {},
   "source": [
    "## Copies data from blob to local host\n",
    "\n",
    "##### Copyright (C) Microsoft Corporation.  \n",
    "see license file for details "
   ]
  },
  {
   "cell_type": "code",
   "execution_count": 1,
   "metadata": {},
   "outputs": [],
   "source": [
    "# Allow multiple displays per cell\n",
    "\n",
    "from IPython.core.interactiveshell import InteractiveShell\n",
    "InteractiveShell.ast_node_interactivity = \"all\" "
   ]
  },
  {
   "cell_type": "code",
   "execution_count": 2,
   "metadata": {},
   "outputs": [],
   "source": [
    "%load_ext autoreload\n",
    "%autoreload 2"
   ]
  },
  {
   "cell_type": "code",
   "execution_count": 3,
   "metadata": {},
   "outputs": [
    {
     "name": "stdout",
     "output_type": "stream",
     "text": [
      "not using AML Workbench?\n"
     ]
    },
    {
     "data": {
      "text/plain": [
       "'/local_dir/prj/AzureChestXRayNoAML/code/01_DataPrep/../../../..'"
      ]
     },
     "execution_count": 3,
     "metadata": {},
     "output_type": "execute_result"
    }
   ],
   "source": [
    "# AZUREML_NATIVE_SHARE_DIRECTORY mapping to host dir is set by _nativeSharedDirectory_ in .compute file \n",
    "\n",
    "import os\n",
    "try:\n",
    "    amlWBSharedDir = os.environ['AZUREML_NATIVE_SHARE_DIRECTORY']    \n",
    "except:\n",
    "    amlWBSharedDir =  os.path.join(os.getcwd(), os.path.join(*(['..', '..', '..', '..'])))\n",
    "    print('not using AML Workbench?')\n",
    "    \n",
    "amlWBSharedDir"
   ]
  },
  {
   "cell_type": "code",
   "execution_count": 4,
   "metadata": {},
   "outputs": [],
   "source": [
    "# Use the Azure Machine Learning data collector to log various metrics\n",
    "\n",
    "# from azureml.logging import get_azureml_logger\n",
    "# logger = get_azureml_logger()"
   ]
  },
  {
   "cell_type": "code",
   "execution_count": 5,
   "metadata": {},
   "outputs": [],
   "source": [
    "# Use Azure Machine Learning history magic to control history collection\n",
    "# History is off by default, options are \"on\", \"off\", or \"show\"\n",
    "# %azureml history on "
   ]
  },
  {
   "cell_type": "code",
   "execution_count": 6,
   "metadata": {},
   "outputs": [
    {
     "data": {
      "text/plain": [
       "['/local_dir/prj/AzureChestXRayNoAML/code/01_DataPrep/../src']"
      ]
     },
     "execution_count": 6,
     "metadata": {},
     "output_type": "execute_result"
    },
    {
     "data": {
      "text/plain": [
       "[None]"
      ]
     },
     "execution_count": 6,
     "metadata": {},
     "output_type": "execute_result"
    }
   ],
   "source": [
    "# import utlity functions\n",
    "\n",
    "import sys\n",
    "paths_to_append = [os.path.join(os.getcwd(), os.path.join(*(['..','src'])))]\n",
    "paths_to_append\n",
    "def add_path_to_sys_path(path_to_append):\n",
    "    if not (any(path_to_append in paths for paths in sys.path)):\n",
    "        sys.path.append(path_to_append)\n",
    "[add_path_to_sys_path(crt_path) for crt_path in paths_to_append]\n",
    "\n",
    "import azure_chestxray_utils"
   ]
  },
  {
   "cell_type": "code",
   "execution_count": 7,
   "metadata": {},
   "outputs": [
    {
     "data": {
      "text/plain": [
       "'/local_dir/prj/AzureChestXRayNoAML/code/01_DataPrep'"
      ]
     },
     "execution_count": 7,
     "metadata": {},
     "output_type": "execute_result"
    },
    {
     "data": {
      "text/plain": [
       "'/local_dir/prj/AzureChestXRayNoAML/code/01_DataPrep/../../../../data/chestxray/ChestX-ray8'"
      ]
     },
     "execution_count": 7,
     "metadata": {},
     "output_type": "execute_result"
    },
    {
     "data": {
      "text/plain": [
       "'/local_dir/prj/AzureChestXRayNoAML/code/01_DataPrep/../../../notShared'"
      ]
     },
     "execution_count": 7,
     "metadata": {},
     "output_type": "execute_result"
    },
    {
     "data": {
      "text/plain": [
       "'/local_dir/prj/AzureChestXRayNoAML/code/01_DataPrep/../../../../data/chestxray/ChestX-ray8/ChestXray-NIHCC'"
      ]
     },
     "execution_count": 7,
     "metadata": {},
     "output_type": "execute_result"
    }
   ],
   "source": [
    "# create the file path variables \n",
    "# create nih_chest_xray_data_dir (in container dir mapped to a host dir for data persistence), \n",
    "# where data will be copied from blob\n",
    "\n",
    "prj_consts = azure_chestxray_utils.chestxray_consts()\n",
    "\n",
    "os.getcwd()\n",
    "\n",
    "\n",
    "data_base_input_dir=os.path.join(amlWBSharedDir, os.path.join(*(prj_consts.BASE_INPUT_DIR_list)))\n",
    "credential_info_path=os.path.join(os.getcwd(), os.path.join(*(['..','..','..']+prj_consts.CREDENTIALS_DIR_list)))\n",
    "nih_chest_xray_data_dir=os.path.join(data_base_input_dir, \n",
    "                                     os.path.join(*(prj_consts.ChestXray_IMAGES_DIR_list)))\n",
    "\n",
    "!mkdir -p {data_base_input_dir}\n",
    "!mkdir -p {credential_info_path}  \n",
    "!mkdir -p {nih_chest_xray_data_dir}\n",
    "!chmod -R ugo=rwx  {data_base_input_dir}\n",
    "\n",
    "data_base_input_dir\n",
    "credential_info_path\n",
    "nih_chest_xray_data_dir"
   ]
  },
  {
   "cell_type": "code",
   "execution_count": 8,
   "metadata": {},
   "outputs": [
    {
     "data": {
      "text/plain": [
       "'/local_dir/prj/AzureChestXRayNoAML/code/01_DataPrep/../../../notShared/get_data_access_secrets.py'"
      ]
     },
     "execution_count": 8,
     "metadata": {},
     "output_type": "execute_result"
    }
   ],
   "source": [
    "# Create this function in file '{credential_info_path}/get_data_access_secrets.py'\n",
    "# def get_blob_credentials():\n",
    "#     dataBlob = 'https://somedatastore.blob.core.windows.net/somecontainer'\n",
    "#     sourceKey = 'somesourceKey'\n",
    "#     return dataBlob, sourceKey\n",
    "# \n",
    "# For example:\n",
    "if 0:\n",
    "    CredentialsFileName = os.path.join(credential_info_path, 'get_data_access_secrets.py') \n",
    "    crt_container = 'https://somedatastore.blob.core.windows.net/somecontainer'\n",
    "    crt_source_Key = 'some_key'\n",
    "    \n",
    "    import os.path \n",
    "\n",
    "    if not os.path.isfile(CredentialsFileName): \n",
    "        print('Credentials file not found, will be written!') \n",
    "        with open(CredentialsFileName,'w') as myFile:\n",
    "            myFile.write((\"def get_blob_credentials():\\n\\t\" +\n",
    "            \"dataBlob = '\" + crt_container + \"'\\n\\t\" +\n",
    "            \"sourceKey = '\" + crt_source_Key + \"'\\n\\t\" +\n",
    "            \"return dataBlob, sourceKey\\n\" )) \n",
    "        print(('Credentials file written at ' +CredentialsFileName)) \n",
    "    else: \n",
    "        print(('Credentials file found at ' + CredentialsFileName))\n",
    "    \n",
    "# check CredentialsFileName existence and print content if needed\n",
    "\n",
    "credentials_file_name = os.path.join(*([credential_info_path, 'get_data_access_secrets.py']))\n",
    "credentials_file_name\n",
    "# !cat {credentials_file_name}"
   ]
  },
  {
   "cell_type": "code",
   "execution_count": 9,
   "metadata": {},
   "outputs": [],
   "source": [
    "# read credentials info\n",
    "\n",
    "add_path_to_sys_path(credential_info_path)         \n",
    "import get_data_access_secrets   \n",
    "crt_container, crt_key = get_data_access_secrets.get_blob_credentials()\n",
    "# crt_container\n",
    "# crt_key"
   ]
  },
  {
   "cell_type": "code",
   "execution_count": 10,
   "metadata": {},
   "outputs": [
    {
     "data": {
      "text/plain": [
       "['azcopy 7.1.0-netcorepreview Copyright (c) 2017 Microsoft Corp. All Rights Reserved.',\n",
       " '------------------------------------------------------------------------------',\n",
       " '# azcopy is designed for high-performance uploading, downloading, and copying',\n",
       " 'data to and from Microsoft Azure Blob, and File storage.',\n",
       " '',\n",
       " '# Command Line Usage:',\n",
       " '    azcopy --source <source> --destination <destination> [options]',\n",
       " '',\n",
       " '# Options:']"
      ]
     },
     "execution_count": 10,
     "metadata": {},
     "output_type": "execute_result"
    }
   ],
   "source": [
    "#check azcopy is available. Uncomment second line to print _response_ if needed\n",
    "\n",
    "response = !azcopy\n",
    "response[1:10]"
   ]
  },
  {
   "cell_type": "code",
   "execution_count": 11,
   "metadata": {},
   "outputs": [
    {
     "name": "stdout",
     "output_type": "stream",
     "text": [
      "\u001b[?1h\u001b=[2018/09/26 19:58:52.110+00:00] >>>>>>>>>>>>>>>>\n",
      "[2018/09/26 19:58:52.116+00:00][VERBOSE] Finished: 0 file(s), 0 B; Average Speed:0 B/s.\n",
      "[2018/09/26 19:58:52.118+00:00][VERBOSE] 7.1.0 : azcopy --quiet --source https://ghiordanchestxrbait02sa.blob.core.windows.net/chestxraydata --destination /local_dir/prj/AzureChestXRayNoAML/code/01_DataPrep/../../../../data/chestxray/ChestX-ray8/ChestXray-NIHCC/.. --source-key ****** --verbose --include BBox_List_2017.csv\n",
      "[2018/09/26 19:58:52.187+00:00][VERBOSE] Attempt to parse address 'https://ghiordanchestxrbait02sa.blob.core.windows.net/chestxraydata' to a directory as a candidate location succeeded.\n",
      "[2018/09/26 19:58:52.189+00:00][VERBOSE] Source is interpreted as a Cloud blob directory: https://ghiordanchestxrbait02sa.blob.core.windows.net/chestxraydata.\n",
      "[2018/09/26 19:58:52.191+00:00][VERBOSE] Attempt to parse address '/local_dir/prj/AzureChestXRayNoAML/code/01_DataPrep/../../../../data/chestxray/ChestX-ray8/ChestXray-NIHCC/..' to a directory as a candidate location succeeded.\n",
      "[2018/09/26 19:58:52.192+00:00][VERBOSE] Destination is interpreted as a Local directory: /local_dir/data/chestxray/ChestX-ray8/.\n",
      "[2018/09/26 19:58:52.869+00:00][VERBOSE] Start transfer: https://ghiordanchestxrbait02sa.blob.core.windows.net/chestxraydata/BBox_List_2017.csv => /local_dir/data/chestxray/ChestX-ray8/BBox_List_2017.csv\n",
      "[2018/09/26 19:58:53.206+00:00][VERBOSE] Finished transfer: https://ghiordanchestxrbait02sa.blob.core.windows.net/chestxraydata/BBox_List_2017.csv => /local_dir/data/chestxray/ChestX-ray8/BBox_List_2017.csv\n",
      "\u001b[6n                                                                               \u001b[6n\u001b[1;1HFinished 1 of total 1 file(s).\n",
      "\u001b[6n                                                                               \u001b[6n[2018/09/26 19:58:57.112+00:00][VERBOSE] Finished: 1 file(s), 90.25 KB; Average Speed:17.61 KB/s.\n",
      "\u001b[1;1H[2018/09/26 19:58:55] Transfer summary:\n",
      "-----------------\n",
      "Total files transferred: 1\n",
      "Transfer successfully:   1\n",
      "Transfer skipped:        0\n",
      "Transfer failed:         0\n",
      "Elapsed time:            00.00:00:03\n",
      "\u001b[?1h\u001b=[2018/09/26 19:58:57.912+00:00] >>>>>>>>>>>>>>>>\n",
      "[2018/09/26 19:58:57.919+00:00][VERBOSE] Finished: 0 file(s), 0 B; Average Speed:0 B/s.\n",
      "[2018/09/26 19:58:57.920+00:00][VERBOSE] 7.1.0 : azcopy --quiet --source https://ghiordanchestxrbait02sa.blob.core.windows.net/chestxraydata --destination /local_dir/prj/AzureChestXRayNoAML/code/01_DataPrep/../../../../data/chestxray/ChestX-ray8/ChestXray-NIHCC/.. --source-key ****** --verbose --include Data_Entry_2017.csv\n",
      "[2018/09/26 19:58:57.988+00:00][VERBOSE] Attempt to parse address 'https://ghiordanchestxrbait02sa.blob.core.windows.net/chestxraydata' to a directory as a candidate location succeeded.\n",
      "[2018/09/26 19:58:57.989+00:00][VERBOSE] Source is interpreted as a Cloud blob directory: https://ghiordanchestxrbait02sa.blob.core.windows.net/chestxraydata.\n",
      "[2018/09/26 19:58:57.991+00:00][VERBOSE] Attempt to parse address '/local_dir/prj/AzureChestXRayNoAML/code/01_DataPrep/../../../../data/chestxray/ChestX-ray8/ChestXray-NIHCC/..' to a directory as a candidate location succeeded.\n",
      "[2018/09/26 19:58:57.992+00:00][VERBOSE] Destination is interpreted as a Local directory: /local_dir/data/chestxray/ChestX-ray8/.\n",
      "[2018/09/26 19:58:58.533+00:00][VERBOSE] Start transfer: https://ghiordanchestxrbait02sa.blob.core.windows.net/chestxraydata/Data_Entry_2017.csv => /local_dir/data/chestxray/ChestX-ray8/Data_Entry_2017.csv\n",
      "[2018/09/26 19:58:59.383+00:00][VERBOSE] Finished transfer: https://ghiordanchestxrbait02sa.blob.core.windows.net/chestxraydata/Data_Entry_2017.csv => /local_dir/data/chestxray/ChestX-ray8/Data_Entry_2017.csv\n",
      "\u001b[6n                                                                               \u001b[6n\u001b[1;1HFinished 1 of total 1 file(s).\n",
      "\u001b[6n                                                                               \u001b[6n[2018/09/26 19:59:02.914+00:00][VERBOSE] Finished: 1 file(s), 7.497 MB; Average Speed:1.46 MB/s.\n",
      "\u001b[1;1H[2018/09/26 19:59:01] Transfer summary:\n",
      "-----------------\n",
      "Total files transferred: 1\n",
      "Transfer successfully:   1\n",
      "Transfer skipped:        0\n",
      "Transfer failed:         0\n",
      "Elapsed time:            00.00:00:03\n",
      "\u001b[?1h\u001b=[2018/09/26 19:59:04.127+00:00] >>>>>>>>>>>>>>>>\n",
      "[2018/09/26 19:59:04.133+00:00][VERBOSE] Finished: 0 file(s), 0 B; Average Speed:0 B/s.\n",
      "[2018/09/26 19:59:04.135+00:00][VERBOSE] 7.1.0 : azcopy --quiet --source https://ghiordanchestxrbait02sa.blob.core.windows.net/chestxraydata --destination /local_dir/prj/AzureChestXRayNoAML/code/01_DataPrep/../../../../data/chestxray/ChestX-ray8/ChestXray-NIHCC/.. --source-key ****** --verbose --include blacklist.csv\n",
      "[2018/09/26 19:59:04.204+00:00][VERBOSE] Attempt to parse address 'https://ghiordanchestxrbait02sa.blob.core.windows.net/chestxraydata' to a directory as a candidate location succeeded.\n",
      "[2018/09/26 19:59:04.206+00:00][VERBOSE] Source is interpreted as a Cloud blob directory: https://ghiordanchestxrbait02sa.blob.core.windows.net/chestxraydata.\n",
      "[2018/09/26 19:59:04.207+00:00][VERBOSE] Attempt to parse address '/local_dir/prj/AzureChestXRayNoAML/code/01_DataPrep/../../../../data/chestxray/ChestX-ray8/ChestXray-NIHCC/..' to a directory as a candidate location succeeded.\n",
      "[2018/09/26 19:59:04.209+00:00][VERBOSE] Destination is interpreted as a Local directory: /local_dir/data/chestxray/ChestX-ray8/.\n",
      "[2018/09/26 19:59:04.750+00:00][VERBOSE] Start transfer: https://ghiordanchestxrbait02sa.blob.core.windows.net/chestxraydata/blacklist.csv => /local_dir/data/chestxray/ChestX-ray8/blacklist.csv\n",
      "[2018/09/26 19:59:05.017+00:00][VERBOSE] Finished transfer: https://ghiordanchestxrbait02sa.blob.core.windows.net/chestxraydata/blacklist.csv => /local_dir/data/chestxray/ChestX-ray8/blacklist.csv\n",
      "\u001b[6n                                                                               \u001b[6n\u001b[1;1HFinished 1 of total 1 file(s).\n",
      "\u001b[6n                                                                               \u001b[6n\u001b[1;1H[2018/09/26 19:59:07] Transfer summary:\n",
      "-----------------\n",
      "Total files transferred: 1\n",
      "Transfer successfully:   1\n",
      "Transfer skipped:        0\n",
      "Transfer failed:         0\n",
      "Elapsed time:            00.00:00:03\n",
      "[2018/09/26 19:59:09.132+00:00][VERBOSE] Finished: 1 file(s), 20.32 KB; Average Speed:3.96 KB/s.\n"
     ]
    }
   ],
   "source": [
    "# copy data to local host dir\n",
    "# add {  --source-key {crt_key}  } if needed\n",
    "\n",
    "tmp_dir1 = os.path.join(nih_chest_xray_data_dir, '..')\n",
    "\n",
    "!azcopy --quiet \\\n",
    "    --source {crt_container}  \\\n",
    "    --destination {tmp_dir1} \\\n",
    "    --source-key {crt_key} \\\n",
    "    --verbose \\\n",
    "    --include \"BBox_List_2017.csv\"\n",
    "\n",
    "!azcopy --quiet \\\n",
    "    --source {crt_container}  \\\n",
    "    --destination {tmp_dir1} \\\n",
    "    --source-key {crt_key} \\\n",
    "    --verbose \\\n",
    "    --include \"Data_Entry_2017.csv\"\n",
    "\n",
    "!azcopy --quiet \\\n",
    "    --source {crt_container}  \\\n",
    "    --destination {tmp_dir1} \\\n",
    "    --source-key {crt_key} \\\n",
    "    --verbose \\\n",
    "    --include \"blacklist.csv\""
   ]
  },
  {
   "cell_type": "code",
   "execution_count": 12,
   "metadata": {},
   "outputs": [
    {
     "data": {
      "text/plain": [
       "'/local_dir/prj/AzureChestXRayNoAML/code/01_DataPrep/../../../../data/chestxray/ChestX-ray8/ChestXray-NIHCC/tmp'"
      ]
     },
     "execution_count": 12,
     "metadata": {},
     "output_type": "execute_result"
    }
   ],
   "source": [
    "tmp_dir = os.path.join(nih_chest_xray_data_dir, 'tmp')\n",
    "tmp_dir\n",
    "!mkdir -p $tmp_dir"
   ]
  },
  {
   "cell_type": "code",
   "execution_count": 13,
   "metadata": {},
   "outputs": [],
   "source": [
    "answer = !azcopy --quiet \\\n",
    "    --source {crt_container}  \\\n",
    "    --destination {tmp_dir} \\\n",
    "    --source-key {crt_key} \\\n",
    "    --recursive \\\n",
    "    --verbose \\\n",
    "    --include \"images_\""
   ]
  },
  {
   "cell_type": "code",
   "execution_count": 14,
   "metadata": {},
   "outputs": [
    {
     "data": {
      "text/plain": [
       "['[2018/09/26 20:04:02] Transfer summary:',\n",
       " '-----------------',\n",
       " 'Total files transferred: 12',\n",
       " 'Transfer successfully:   12',\n",
       " 'Transfer skipped:        0',\n",
       " 'Transfer failed:         0',\n",
       " 'Elapsed time:            00.00:04:53']"
      ]
     },
     "execution_count": 14,
     "metadata": {},
     "output_type": "execute_result"
    }
   ],
   "source": [
    "answer[-7:]"
   ]
  },
  {
   "cell_type": "markdown",
   "metadata": {},
   "source": [
    "The azcopy download process above will run for several minutes. \n",
    "\n",
    "Make sure you have these file sizes when it finishes:  \n",
    "total __44023372__  \n",
    "-rw-r--r-- 1 1000 users __2008470987__ Sep 26 17:19 images_001.tar.gz  \n",
    "-rw-r--r-- 1 1000 users __3952623504__ Sep 26 19:05 images_002.tar.gz  \n",
    "-rw-r--r-- 1 1000 users __3929234850__ Sep 26 17:22 images_003.tar.gz  \n",
    "-rw-r--r-- 1 1000 users __3838903983__ Sep 26 17:25 images_004.tar.gz  \n",
    "-rw-r--r-- 1 1000 users __3935496531__ Sep 26 17:22 images_005.tar.gz  \n",
    "-rw-r--r-- 1 1000 users __3986301172__ Sep 26 17:25 images_006.tar.gz  \n",
    "-rw-r--r-- 1 1000 users __4016328426__ Sep 26 19:05 images_007.tar.gz  \n",
    "-rw-r--r-- 1 1000 users __4018347353__ Sep 26 19:05 images_008.tar.gz  \n",
    "-rw-r--r-- 1 1000 users __4111327929__ Sep 26 19:05 images_009.tar.gz  \n",
    "-rw-r--r-- 1 1000 users __4181556296__ Sep 26 19:05 images_010.tar.gz  \n",
    "-rw-r--r-- 1 1000 users __4187084020__ Sep 26 19:05 images_011.tar.gz  \n",
    "-rw-r--r-- 1 1000 users __2914187733__ Sep 26 17:21 images_012.tar.gz  \n",
    "  \n",
    "If the unzipping process below does not end up with __112120__ .png images, you may need to repeat the download process for the above 12 .tar.gz files."
   ]
  },
  {
   "cell_type": "code",
   "execution_count": 15,
   "metadata": {},
   "outputs": [
    {
     "data": {
      "text/plain": [
       "'/local_dir/prj/AzureChestXRayNoAML/code/01_DataPrep/../../../../data/chestxray/ChestX-ray8/ChestXray-NIHCC'"
      ]
     },
     "execution_count": 15,
     "metadata": {},
     "output_type": "execute_result"
    },
    {
     "data": {
      "text/plain": [
       "'/local_dir/prj/AzureChestXRayNoAML/code/01_DataPrep/../../../../data/chestxray/ChestX-ray8/ChestXray-NIHCC/tmp'"
      ]
     },
     "execution_count": 15,
     "metadata": {},
     "output_type": "execute_result"
    },
    {
     "name": "stdout",
     "output_type": "stream",
     "text": [
      "total 44023372\r\n",
      "-rw-r--r-- 1 keras users 2008470987 Sep 26 20:00 images_001.tar.gz\r\n",
      "-rw-r--r-- 1 keras users 3952623504 Sep 26 20:03 images_002.tar.gz\r\n",
      "-rw-r--r-- 1 keras users 3929234850 Sep 26 20:03 images_003.tar.gz\r\n",
      "-rw-r--r-- 1 keras users 3838903983 Sep 26 20:03 images_004.tar.gz\r\n",
      "-rw-r--r-- 1 keras users 3935496531 Sep 26 20:03 images_005.tar.gz\r\n",
      "-rw-r--r-- 1 keras users 3986301172 Sep 26 20:04 images_006.tar.gz\r\n",
      "-rw-r--r-- 1 keras users 4016328426 Sep 26 20:03 images_007.tar.gz\r\n",
      "-rw-r--r-- 1 keras users 4018347353 Sep 26 20:03 images_008.tar.gz\r\n",
      "-rw-r--r-- 1 keras users 4111327929 Sep 26 20:04 images_009.tar.gz\r\n",
      "-rw-r--r-- 1 keras users 4181556296 Sep 26 20:04 images_010.tar.gz\r\n",
      "-rw-r--r-- 1 keras users 4187084020 Sep 26 20:03 images_011.tar.gz\r\n",
      "-rw-r--r-- 1 keras users 2914187733 Sep 26 20:02 images_012.tar.gz\r\n"
     ]
    }
   ],
   "source": [
    "nih_chest_xray_data_dir\n",
    "tmp_dir\n",
    "!ls -l $tmp_dir\n",
    "# !find $nih_chest_xray_data_dir -type f | wc -l"
   ]
  },
  {
   "cell_type": "markdown",
   "metadata": {},
   "source": [
    "The unzipping process below will run for several minutes.\n",
    "\n",
    "While it runs, you can monitor the progress by ssh-ing \n",
    "into your compute context machine and running:   \n",
    "find /data/datadrive01/data/chestxray/ChestX-ray8/ChestXray-NIHCC/images/  -type f | wc -l  \n",
    "\n",
    "The final number of images is:  \n",
    "__112120__  \n",
    "\n"
   ]
  },
  {
   "cell_type": "code",
   "execution_count": 16,
   "metadata": {},
   "outputs": [
    {
     "data": {
      "text/plain": [
       "'/local_dir/prj/AzureChestXRayNoAML/code/01_DataPrep/../../../../data/chestxray/ChestX-ray8/ChestXray-NIHCC'"
      ]
     },
     "execution_count": 16,
     "metadata": {},
     "output_type": "execute_result"
    },
    {
     "name": "stdout",
     "output_type": "stream",
     "text": [
      "/local_dir/data/chestxray/ChestX-ray8/ChestXray-NIHCC\n",
      "-rw-r--r-- 1 keras users 2008470987 Sep 26 20:00 /local_dir/prj/AzureChestXRayNoAML/code/01_DataPrep/../../../../data/chestxray/ChestX-ray8/ChestXray-NIHCC/tmp/images_001.tar.gz\n",
      "-rw-r--r-- 1 keras users 3952623504 Sep 26 20:03 /local_dir/prj/AzureChestXRayNoAML/code/01_DataPrep/../../../../data/chestxray/ChestX-ray8/ChestXray-NIHCC/tmp/images_002.tar.gz\n",
      "-rw-r--r-- 1 keras users 3929234850 Sep 26 20:03 /local_dir/prj/AzureChestXRayNoAML/code/01_DataPrep/../../../../data/chestxray/ChestX-ray8/ChestXray-NIHCC/tmp/images_003.tar.gz\n",
      "-rw-r--r-- 1 keras users 3838903983 Sep 26 20:03 /local_dir/prj/AzureChestXRayNoAML/code/01_DataPrep/../../../../data/chestxray/ChestX-ray8/ChestXray-NIHCC/tmp/images_004.tar.gz\n",
      "-rw-r--r-- 1 keras users 3935496531 Sep 26 20:03 /local_dir/prj/AzureChestXRayNoAML/code/01_DataPrep/../../../../data/chestxray/ChestX-ray8/ChestXray-NIHCC/tmp/images_005.tar.gz\n",
      "-rw-r--r-- 1 keras users 3986301172 Sep 26 20:04 /local_dir/prj/AzureChestXRayNoAML/code/01_DataPrep/../../../../data/chestxray/ChestX-ray8/ChestXray-NIHCC/tmp/images_006.tar.gz\n",
      "-rw-r--r-- 1 keras users 4016328426 Sep 26 20:03 /local_dir/prj/AzureChestXRayNoAML/code/01_DataPrep/../../../../data/chestxray/ChestX-ray8/ChestXray-NIHCC/tmp/images_007.tar.gz\n",
      "-rw-r--r-- 1 keras users 4018347353 Sep 26 20:03 /local_dir/prj/AzureChestXRayNoAML/code/01_DataPrep/../../../../data/chestxray/ChestX-ray8/ChestXray-NIHCC/tmp/images_008.tar.gz\n",
      "-rw-r--r-- 1 keras users 4111327929 Sep 26 20:04 /local_dir/prj/AzureChestXRayNoAML/code/01_DataPrep/../../../../data/chestxray/ChestX-ray8/ChestXray-NIHCC/tmp/images_009.tar.gz\n",
      "-rw-r--r-- 1 keras users 4181556296 Sep 26 20:04 /local_dir/prj/AzureChestXRayNoAML/code/01_DataPrep/../../../../data/chestxray/ChestX-ray8/ChestXray-NIHCC/tmp/images_010.tar.gz\n",
      "-rw-r--r-- 1 keras users 4187084020 Sep 26 20:03 /local_dir/prj/AzureChestXRayNoAML/code/01_DataPrep/../../../../data/chestxray/ChestX-ray8/ChestXray-NIHCC/tmp/images_011.tar.gz\n",
      "-rw-r--r-- 1 keras users 2914187733 Sep 26 20:02 /local_dir/prj/AzureChestXRayNoAML/code/01_DataPrep/../../../../data/chestxray/ChestX-ray8/ChestXray-NIHCC/tmp/images_012.tar.gz\n"
     ]
    }
   ],
   "source": [
    "nih_chest_xray_data_dir\n",
    "old_crt_dir = os.getcwd()\n",
    "os.chdir(nih_chest_xray_data_dir)\n",
    "!pwd\n",
    "!ls -l $tmp_dir/*.tar.gz \n",
    "allImages = ! cat $tmp_dir/*.tar.gz | tar -zxf - -i\n",
    "# !for file in $tmp_dir/*.tar.gz; do tar -zxf $file; done\n"
   ]
  },
  {
   "cell_type": "code",
   "execution_count": 17,
   "metadata": {},
   "outputs": [],
   "source": [
    "# os.chdir(nih_chest_xray_data_dir)\n",
    "# !pwd\n",
    "# !tar -zxvf $tmp_dir/images_001.tar.gz"
   ]
  },
  {
   "cell_type": "code",
   "execution_count": 18,
   "metadata": {},
   "outputs": [
    {
     "name": "stdout",
     "output_type": "stream",
     "text": [
      "[NbConvertApp] Converting notebook 001_get_data.ipynb to html\n",
      "[NbConvertApp] Writing 274792 bytes to 001_get_data.html\n"
     ]
    }
   ],
   "source": [
    "os.chdir(old_crt_dir) \n",
    "!jupyter nbconvert --to html 001_get_data.ipynb"
   ]
  },
  {
   "cell_type": "code",
   "execution_count": null,
   "metadata": {},
   "outputs": [],
   "source": []
  }
 ],
 "metadata": {
  "kernelspec": {
   "display_name": "Python 3",
   "language": "python",
   "name": "python3"
  },
  "language_info": {
   "codemirror_mode": {
    "name": "ipython",
    "version": 3
   },
   "file_extension": ".py",
   "mimetype": "text/x-python",
   "name": "python",
   "nbconvert_exporter": "python",
   "pygments_lexer": "ipython3",
   "version": "3.6.3"
  }
 },
 "nbformat": 4,
 "nbformat_minor": 2
}
