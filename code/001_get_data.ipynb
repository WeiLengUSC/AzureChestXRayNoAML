{
 "cells": [
  {
   "cell_type": "markdown",
   "metadata": {},
   "source": [
    "## Copies data from blob to local host\n",
    "\n",
    "##### Copyright (C) Microsoft Corporation.  \n",
    "see license file for details "
   ]
  },
  {
   "cell_type": "code",
   "execution_count": 1,
   "metadata": {},
   "outputs": [],
   "source": [
    "# Allow multiple displays per cell\n",
    "\n",
    "from IPython.core.interactiveshell import InteractiveShell\n",
    "InteractiveShell.ast_node_interactivity = \"all\""
   ]
  },
  {
   "cell_type": "code",
   "execution_count": 2,
   "metadata": {},
   "outputs": [],
   "source": [
    "%load_ext autoreload\n",
    "%autoreload 2"
   ]
  },
  {
   "cell_type": "code",
   "execution_count": 3,
   "metadata": {},
   "outputs": [
    {
     "name": "stdout",
     "output_type": "stream",
     "text": [
      "not using AML Workbench?\n"
     ]
    },
    {
     "data": {
      "text/plain": [
       "'/local_dir/code'"
      ]
     },
     "execution_count": 3,
     "metadata": {},
     "output_type": "execute_result"
    }
   ],
   "source": [
    "# AZUREML_NATIVE_SHARE_DIRECTORY mapping to host dir is set by _nativeSharedDirectory_ in .compute file \n",
    "\n",
    "import os\n",
    "try:\n",
    "    amlWBSharedDir = os.environ['AZUREML_NATIVE_SHARE_DIRECTORY']    \n",
    "except:\n",
    "    amlWBSharedDir =  os.getcwd()\n",
    "    print('not using AML Workbench?')\n",
    "    \n",
    "amlWBSharedDir"
   ]
  },
  {
   "cell_type": "code",
   "execution_count": 4,
   "metadata": {},
   "outputs": [],
   "source": [
    "# Use the Azure Machine Learning data collector to log various metrics\n",
    "\n",
    "# from azureml.logging import get_azureml_logger\n",
    "# logger = get_azureml_logger()"
   ]
  },
  {
   "cell_type": "code",
   "execution_count": 5,
   "metadata": {},
   "outputs": [],
   "source": [
    "# Use Azure Machine Learning history magic to control history collection\n",
    "# History is off by default, options are \"on\", \"off\", or \"show\"\n",
    "# %azureml history on"
   ]
  },
  {
   "cell_type": "code",
   "execution_count": 6,
   "metadata": {},
   "outputs": [
    {
     "data": {
      "text/plain": [
       "[None]"
      ]
     },
     "execution_count": 6,
     "metadata": {},
     "output_type": "execute_result"
    }
   ],
   "source": [
    "# import utlity functions\n",
    "\n",
    "import sys, os\n",
    "paths_to_append = [os.path.join(os.getcwd(), os.path.join(*(['src'])))]\n",
    "def add_path_to_sys_path(path_to_append):\n",
    "    if not (any(path_to_append in paths for paths in sys.path)):\n",
    "        sys.path.append(path_to_append)\n",
    "[add_path_to_sys_path(crt_path) for crt_path in paths_to_append]\n",
    "\n",
    "import azure_chestxray_utils"
   ]
  },
  {
   "cell_type": "code",
   "execution_count": 7,
   "metadata": {},
   "outputs": [
    {
     "data": {
      "text/plain": [
       "'/local_dir/code'"
      ]
     },
     "execution_count": 7,
     "metadata": {},
     "output_type": "execute_result"
    },
    {
     "data": {
      "text/plain": [
       "'/local_dir/code/../chestxray/data/ChestX-ray8'"
      ]
     },
     "execution_count": 7,
     "metadata": {},
     "output_type": "execute_result"
    },
    {
     "data": {
      "text/plain": [
       "'/local_dir/code/notShared'"
      ]
     },
     "execution_count": 7,
     "metadata": {},
     "output_type": "execute_result"
    },
    {
     "data": {
      "text/plain": [
       "'/local_dir/code/../chestxray/data/ChestX-ray8/ChestXray-NIHCC'"
      ]
     },
     "execution_count": 7,
     "metadata": {},
     "output_type": "execute_result"
    }
   ],
   "source": [
    "# create the file path variables \n",
    "# create nih_chest_xray_data_dir (in container dir mapped to a host dir for data persistence), \n",
    "# where data will be copied from blob\n",
    "\n",
    "prj_consts = azure_chestxray_utils.chestxray_consts()\n",
    "\n",
    "os.getcwd()\n",
    "\n",
    "\n",
    "data_base_input_dir=os.path.join(amlWBSharedDir, os.path.join(*(['..']+prj_consts.BASE_INPUT_DIR_list)))\n",
    "credential_info_path=os.path.join(amlWBSharedDir, os.path.join(*(prj_consts.CREDENTIALS_DIR_list)))\n",
    "nih_chest_xray_data_dir=os.path.join(data_base_input_dir, \n",
    "                                     os.path.join(*(prj_consts.ChestXray_IMAGES_DIR_list)))\n",
    "\n",
    "!mkdir -p {data_base_input_dir}\n",
    "!mkdir -p {credential_info_path}  \n",
    "!mkdir -p {nih_chest_xray_data_dir}\n",
    "\n",
    "data_base_input_dir\n",
    "credential_info_path\n",
    "nih_chest_xray_data_dir"
   ]
  },
  {
   "cell_type": "code",
   "execution_count": 8,
   "metadata": {},
   "outputs": [
    {
     "data": {
      "text/plain": [
       "'/local_dir/code/notShared/get_data_access_secrets.py'"
      ]
     },
     "execution_count": 8,
     "metadata": {},
     "output_type": "execute_result"
    }
   ],
   "source": [
    "# Create this function in file '{credential_info_path}/get_data_access_secrets.py'\n",
    "# def get_blob_credentials():\n",
    "#     dataBlob = 'https://somedatastore.blob.core.windows.net/somecontainer'\n",
    "#     sourceKey = 'somesourceKey'\n",
    "#     return dataBlob, sourceKey\n",
    "# \n",
    "# For example:\n",
    "if 0:\n",
    "    CredentialsFileName = os.path.join(credential_info_path, 'get_data_access_secrets.py') \n",
    "    crt_container = 'https://somedatastore.blob.core.windows.net/somecontainer'\n",
    "    crt_container = 'https://ghiordanchestxrbait02sa.blob.core.windows.net:443/chestxraydata'\n",
    "    crt_source_Key = 'QAMVc1skSmsovoYyycyeP4Oq4pzhwHEIVMqFsuIMg6TbF0LcnRYBsPCPPyHGmhaRrhlruhACO+DWJuzZTOmctg=='\n",
    "\n",
    "    import os.path \n",
    "\n",
    "    if not os.path.isfile(CredentialsFileName): \n",
    "        print('Credentials file not found, will be written!') \n",
    "        with open(CredentialsFileName,'w') as myFile:\n",
    "            myFile.write((\"def get_blob_credentials():\\n\\t\" +\n",
    "            \"dataBlob = '\" + crt_container + \"'\\n\\t\" +\n",
    "            \"sourceKey = '\" + crt_source_Key + \"'\\n\\t\" +\n",
    "            \"return dataBlob, sourceKey\\n\" )) \n",
    "        print(('Credentials file written at ' +CredentialsFileName)) \n",
    "    else: \n",
    "        print(('Credentials file found at ' + CredentialsFileName))\n",
    "    \n",
    "# check CredentialsFileName existence and print content if needed\n",
    "\n",
    "credentials_file_name = os.path.join(*([credential_info_path, 'get_data_access_secrets.py']))\n",
    "credentials_file_name\n",
    "# !cat {credentials_file_name}"
   ]
  },
  {
   "cell_type": "code",
   "execution_count": 9,
   "metadata": {},
   "outputs": [
    {
     "data": {
      "text/plain": [
       "'https://ghiordanchestxrbait02sa.blob.core.windows.net:443/chestxraydata'"
      ]
     },
     "execution_count": 9,
     "metadata": {},
     "output_type": "execute_result"
    },
    {
     "data": {
      "text/plain": [
       "'QAMVc1skSmsovoYyycyeP4Oq4pzhwHEIVMqFsuIMg6TbF0LcnRYBsPCPPyHGmhaRrhlruhACO+DWJuzZTOmctg=='"
      ]
     },
     "execution_count": 9,
     "metadata": {},
     "output_type": "execute_result"
    }
   ],
   "source": [
    "# read credentials info\n",
    "\n",
    "add_path_to_sys_path(credential_info_path)         \n",
    "import get_data_access_secrets   \n",
    "crt_container, crt_key = get_data_access_secrets.get_blob_credentials()\n",
    "crt_container\n",
    "crt_key"
   ]
  },
  {
   "cell_type": "code",
   "execution_count": 10,
   "metadata": {},
   "outputs": [
    {
     "data": {
      "text/plain": [
       "['azcopy 7.1.0-netcorepreview Copyright (c) 2017 Microsoft Corp. All Rights Reserved.',\n",
       " '------------------------------------------------------------------------------',\n",
       " '# azcopy is designed for high-performance uploading, downloading, and copying',\n",
       " 'data to and from Microsoft Azure Blob, and File storage.',\n",
       " '',\n",
       " '# Command Line Usage:',\n",
       " '    azcopy --source <source> --destination <destination> [options]',\n",
       " '',\n",
       " '# Options:']"
      ]
     },
     "execution_count": 10,
     "metadata": {},
     "output_type": "execute_result"
    }
   ],
   "source": [
    "#check azcopy is available. Uncomment second line to print _response_ if needed\n",
    "\n",
    "response = !azcopy\n",
    "response[1:10]"
   ]
  },
  {
   "cell_type": "code",
   "execution_count": 11,
   "metadata": {},
   "outputs": [
    {
     "data": {
      "text/plain": [
       "'/local_dir/code/../chestxray/data/ChestX-ray8/ChestXray-NIHCC/tmp'"
      ]
     },
     "execution_count": 11,
     "metadata": {},
     "output_type": "execute_result"
    }
   ],
   "source": [
    "tmp_dir = os.path.join(nih_chest_xray_data_dir, 'tmp')\n",
    "tmp_dir\n",
    "!mkdir - p $tmp_dir"
   ]
  },
  {
   "cell_type": "code",
   "execution_count": 12,
   "metadata": {},
   "outputs": [],
   "source": [
    "# copy data to local host dir\n",
    "# add {  --source-key {crt_key}  } if needed\n",
    "\n",
    "tmp_dir = os.path.join(nih_chest_xray_data_dir, 'tmp')\n",
    "\n",
    "answer = !yes | azcopy --quiet \\\n",
    "    --source {crt_container}  \\\n",
    "    --destination {tmp_dir} \\\n",
    "    --source-key {crt_key} \\\n",
    "    --recursive \\\n",
    "    --verbose \\\n",
    "    --include \"images_\"\n"
   ]
  },
  {
   "cell_type": "markdown",
   "metadata": {},
   "source": [
    " The above cell will take about 20 minutes to run. While it runs, you can monitor the progress by ssh-ing \n",
    " into your compute context machine and running:   \n",
    " find /datadrive01/amlwbShare/current_exp_account/current_workspace/current_exp/chestxray/data/ChestX-ray8/ChestXray-NIHCC/ -type f | wc -l"
   ]
  },
  {
   "cell_type": "code",
   "execution_count": 13,
   "metadata": {},
   "outputs": [
    {
     "data": {
      "text/plain": [
       "['[2018/09/24 02:52:14] Transfer summary:',\n",
       " '-----------------',\n",
       " 'Total files transferred: 12',\n",
       " 'Transfer successfully:   4',\n",
       " 'Transfer skipped:        0',\n",
       " 'Transfer failed:         8',\n",
       " 'Elapsed time:            00.00:16:07']"
      ]
     },
     "execution_count": 13,
     "metadata": {},
     "output_type": "execute_result"
    }
   ],
   "source": [
    "answer[-7:]"
   ]
  },
  {
   "cell_type": "code",
   "execution_count": 14,
   "metadata": {},
   "outputs": [
    {
     "data": {
      "text/plain": [
       "'/local_dir/code/../chestxray/data/ChestX-ray8/ChestXray-NIHCC'"
      ]
     },
     "execution_count": 14,
     "metadata": {},
     "output_type": "execute_result"
    },
    {
     "name": "stdout",
     "output_type": "stream",
     "text": [
      "total 28835536\r\n",
      "-rw-r--r-- 1 keras users  226840150 Sep 24 02:36 images_001.tar.gz\r\n",
      "-rw-r--r-- 1 keras users  226610774 Sep 24 02:36 images_002.tar.gz\r\n",
      "-rw-r--r-- 1 keras users  289443414 Sep 24 02:36 images_003.tar.gz\r\n",
      "-rw-r--r-- 1 keras users 3838903983 Sep 24 02:37 images_004.tar.gz\r\n",
      "-rw-r--r-- 1 keras users 3935496531 Sep 24 02:37 images_005.tar.gz\r\n",
      "-rw-r--r-- 1 keras users 3986301172 Sep 24 02:37 images_006.tar.gz\r\n",
      "-rw-r--r-- 1 keras users 4016328426 Sep 24 02:37 images_007.tar.gz\r\n",
      "-rw-r--r-- 1 keras users 4018347353 Sep 24 02:37 images_008.tar.gz\r\n",
      "-rw-r--r-- 1 keras users 4111327929 Sep 24 02:37 images_009.tar.gz\r\n",
      "-rw-r--r-- 1 keras users 4181556296 Sep 24 02:37 images_010.tar.gz\r\n",
      "-rw-r--r-- 1 keras users 4187084020 Sep 24 02:37 images_011.tar.gz\r\n",
      "-rw-r--r-- 1 keras users 2914187733 Sep 24 02:37 images_012.tar.gz\r\n"
     ]
    }
   ],
   "source": [
    "nih_chest_xray_data_dir\n",
    "!ls -l $tmp_dir\n",
    "# !find $nih_chest_xray_data_dir -type f | wc -l"
   ]
  },
  {
   "cell_type": "code",
   "execution_count": 15,
   "metadata": {},
   "outputs": [
    {
     "name": "stdout",
     "output_type": "stream",
     "text": [
      "ls -l /local_dir/code/../chestxray/data/ChestX-ray8/ChestXray-NIHCC\n",
      "tar (child): /*.tar.gz: Cannot open: No such file or directory\n",
      "tar (child): Error is not recoverable: exiting now\n",
      "tar: Child returned status 2\n",
      "tar: Error is not recoverable: exiting now\n"
     ]
    }
   ],
   "source": [
    "!echo ls -l $nih_chest_xray_data_dir\n",
    "!cd $nih_chest_xray_data_dir\n",
    "# ! ls -l $nih_chest_xray_data_dir/*.tar.gz \n",
    "# ! cat $nih_chest_xray_data_dir/*.tar.gz | tar -zxvf - -i\n",
    "!for file in $tmp_dir/*.tar.gz; do tar -zxf $file; done\n"
   ]
  },
  {
   "cell_type": "code",
   "execution_count": 17,
   "metadata": {},
   "outputs": [
    {
     "name": "stdout",
     "output_type": "stream",
     "text": [
      "[NbConvertApp] Converting notebook 001_get_data.ipynb to html\n",
      "[NbConvertApp] Writing 275149 bytes to 001_get_data.html\n"
     ]
    }
   ],
   "source": [
    "!jupyter nbconvert --to html 001_get_data.ipynb"
   ]
  },
  {
   "cell_type": "code",
   "execution_count": null,
   "metadata": {},
   "outputs": [],
   "source": []
  }
 ],
 "metadata": {
  "kernelspec": {
   "display_name": "Python 3",
   "language": "python",
   "name": "python3"
  },
  "language_info": {
   "codemirror_mode": {
    "name": "ipython",
    "version": 3
   },
   "file_extension": ".py",
   "mimetype": "text/x-python",
   "name": "python",
   "nbconvert_exporter": "python",
   "pygments_lexer": "ipython3",
   "version": "3.6.3"
  }
 },
 "nbformat": 4,
 "nbformat_minor": 2
}
